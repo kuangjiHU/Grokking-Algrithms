{
 "cells": [
  {
   "cell_type": "markdown",
   "metadata": {},
   "source": [
    "# 算法图解学习\n",
    "   *  主要目的是学习不同基础算法的优缺点，对症下药"
   ]
  },
  {
   "cell_type": "markdown",
   "metadata": {},
   "source": [
    "## 二分查找\n",
    "* 性能的理解：对于有序范围内，需要多少个步骤完成，步骤越少计算复杂度越少\n",
    "* 二分法只适用于有序列表\n",
    "* 对数时间 O(log(n, 2))"
   ]
  },
  {
   "cell_type": "code",
   "execution_count": null,
   "metadata": {},
   "outputs": [],
   "source": [
    "def binary_search(lst, item):\n",
    "    # 从lst中找到item\n",
    "    low = 0\n",
    "    high = len(lst) - 1\n",
    "    while low <= high:\n",
    "        mid = (low + high)//2 # 中间位置\n",
    "        guess = lst[mid]\n",
    "        if guess == item:\n",
    "            return mid\n",
    "        if guess > item:\n",
    "            high = mid - 1\n",
    "        else:\n",
    "            low = mid + 1\n",
    "    return None"
   ]
  },
  {
   "cell_type": "code",
   "execution_count": null,
   "metadata": {},
   "outputs": [],
   "source": [
    "my_lst = [1, 2, 3, 4, 10, 15, 33]\n",
    "print(binary_search(my_lst, 10))"
   ]
  },
  {
   "cell_type": "markdown",
   "metadata": {},
   "source": [
    "### 旅行商问题\n",
    "有个旅行商，旅途中需要经过五个城市，需要总路径最短，设计旅程顺序\n",
    "* 此处讨论 O(n!)算法\n",
    "对每个顶点进行计算 是个阶乘问题，但是k近邻会有个近似答案"
   ]
  },
  {
   "cell_type": "markdown",
   "metadata": {},
   "source": [
    "## 选择排序\n",
    "* 许多算法都是需要先对数据进行排序才行，例如二分查找， 因此需要优秀的排序算法\n",
    "* 数据的存储不一定是顺序的，因为顺序，及需要一片连续的内存，不是最大化利用内存的，而内存的为一个小小区域都是有编号的，因此，可以利用编号组成一个 链表\n",
    "* 但是链表如果当读取某个元素时并不高效，需要知道之前的所有编号，而数组就可以直接读出\n",
    "\n",
    "|   |数组|链表|\n",
    "  | ---- | ----  | ----  |\n",
    "  |读取|O(1)|O(n)|\n",
    "  |插入|O(n)|O(1)|\n",
    "  |删除|O(n)|O(1)|\n",
    " \n",
    " * 数组与list 概念不要混淆，数组中所有元素类型必须相同（int， double）"
   ]
  },
  {
   "cell_type": "code",
   "execution_count": null,
   "metadata": {},
   "outputs": [],
   "source": [
    "def find_smallest(arr):\n",
    "    smallest = arr[0]\n",
    "    smallest_index = 0\n",
    "    for i in range(1, len(arr)):\n",
    "        if arr[i] < smallest:\n",
    "            smallest = arr[i]\n",
    "            smallest_index = i\n",
    "    return smallest_index"
   ]
  },
  {
   "cell_type": "code",
   "execution_count": null,
   "metadata": {},
   "outputs": [],
   "source": [
    "def sellection_sort(arr):\n",
    "    new_arr = []\n",
    "    for i  in range(len(arr)):\n",
    "        smallest = find_smallest(arr)\n",
    "        new_arr.append(arr.pop(smallest))\n",
    "    return new_arr"
   ]
  },
  {
   "cell_type": "code",
   "execution_count": null,
   "metadata": {},
   "outputs": [],
   "source": [
    "print(sellection_sort([5, 2, 4, 6]))"
   ]
  },
  {
   "cell_type": "markdown",
   "metadata": {},
   "source": [
    "## 递归\n",
    "* 三部曲：基本情况、改变状态向基本情况靠近，调用自己（初始条件，缩小规模，调用自身）\n",
    "* 也有的说：基线条件、递归条件\n",
    "* “如果使用循环，程序的性能可能更高；如果使用递归，程序可能更容易理解”"
   ]
  },
  {
   "cell_type": "markdown",
   "metadata": {},
   "source": [
    "### 栈\n",
    "* 后进先出 (last in first out)LIFO\n",
    "* 调用栈 call stack\n",
    " - 计算机在内部使用被称为调用栈的栈\n",
    " - 调用另一个函数时，当前函数处于暂停状态"
   ]
  },
  {
   "cell_type": "code",
   "execution_count": null,
   "metadata": {},
   "outputs": [],
   "source": [
    "def greet(name):\n",
    "    print('hello, '+name+ '!')\n",
    "    greet2(name)\n",
    "    print('getting ready to say bye...' )\n",
    "    bye()\n",
    "\n",
    "def greet2(name):\n",
    "    print('how are you, '+ name)\n",
    "\n",
    "def bye():\n",
    "    print('ok, bye!')"
   ]
  },
  {
   "cell_type": "code",
   "execution_count": null,
   "metadata": {},
   "outputs": [],
   "source": [
    "greet('hudong')"
   ]
  },
  {
   "cell_type": "markdown",
   "metadata": {},
   "source": [
    "调用greet('hudong'),计算机将为该函数调用分配一块内存，变量将被写入当执行到greet2时，计算机也会为这个函数分配一块内存，计算机使用一个栈来表示这些内存块，greet2内存块在greet上面，当执行完how are you, hudong后，从函数调用返回，栈顶的内存块被弹出,后面的bye()将在getting ready to say bye...后面被分配在greet内存块的上面。"
   ]
  },
  {
   "cell_type": "markdown",
   "metadata": {},
   "source": [
    "* 递归调用栈"
   ]
  },
  {
   "cell_type": "code",
   "execution_count": null,
   "metadata": {},
   "outputs": [],
   "source": [
    "# 计算阶乘\n",
    "def fact(x):\n",
    "    if x == 1:\n",
    "        return 1\n",
    "    else:\n",
    "        return x * fact(x-1)"
   ]
  },
  {
   "cell_type": "code",
   "execution_count": null,
   "metadata": {},
   "outputs": [],
   "source": [
    "fact(3)"
   ]
  },
  {
   "cell_type": "markdown",
   "metadata": {},
   "source": [
    "## 快速排序\n",
    "* 分而治之  --通用的问题解决方法(D&C divide and conquer)\n",
    "* 快速排序使用了分而治之的方法"
   ]
  },
  {
   "cell_type": "markdown",
   "metadata": {},
   "source": [
    "### 分而治之\n",
    "* D&C算法是递归的 需要解决三部曲\n",
    "* 是一种解决问题的思路\n",
    "* 使用D&C处理列表问题时，基线条件很可能时空数组或者只包含一个元素的数组"
   ]
  },
  {
   "cell_type": "code",
   "execution_count": null,
   "metadata": {},
   "outputs": [],
   "source": [
    "def sum_list(lst):\n",
    "    '''\n",
    "    其实sum 函数是一种分而治之的思路\n",
    "    '''\n",
    "#     if not lst: # 结束条件：\n",
    "#         return 0\n",
    "    if len(lst) == 1:\n",
    "        return lstt[0]\n",
    "#     else:\n",
    "    return  lst[0] + sum_list(lst[1:])\n"
   ]
  },
  {
   "cell_type": "code",
   "execution_count": null,
   "metadata": {},
   "outputs": [],
   "source": [
    "lst = [1, 2, 3, 4]\n",
    "sum_list(lst)"
   ]
  },
  {
   "cell_type": "code",
   "execution_count": null,
   "metadata": {},
   "outputs": [],
   "source": [
    "# 实现统计列表元素个数的\n",
    "def tongji_lst_len(lst):\n",
    "    if not lst: # 结束条件\n",
    "        return 0\n",
    "#     else:\n",
    "    return  1 + tongji_lst_len(lst[1:])"
   ]
  },
  {
   "cell_type": "code",
   "execution_count": null,
   "metadata": {},
   "outputs": [],
   "source": [
    "lst = [1, 2, 3, 4]\n",
    "tongji_lst_len(lst)"
   ]
  },
  {
   "cell_type": "code",
   "execution_count": null,
   "metadata": {},
   "outputs": [],
   "source": [
    "# 找出列表中最大的数字：\n",
    "def find_max(lst):\n",
    "    if not lst: # 结束条件\n",
    "        return None\n",
    "#     else:\n",
    "    cur_max = lst[0]\n",
    "    last_max = find_max(lst[1:])\n",
    "    if last_max:\n",
    "        return last_max if last_max > cur_max  else cur_max\n",
    "#     else:\n",
    "    return cur_max\n",
    "\n",
    "\n",
    "#  图解答案：\n",
    "def max(list):\n",
    "    if len(list) == 2:\n",
    "        return list[0] if list[0] >list[1] else list[1]\n",
    "    sub_max = max(list[1:])\n",
    "    return list[0] if list[0] > sub_max else sub_max "
   ]
  },
  {
   "cell_type": "code",
   "execution_count": null,
   "metadata": {},
   "outputs": [],
   "source": [
    "lst = [1, 10, 3, 4]\n",
    "find_max(lst)"
   ]
  },
  {
   "cell_type": "code",
   "execution_count": null,
   "metadata": {},
   "outputs": [],
   "source": [
    "# 用分而治之的递归思想写出二分查找：\n",
    "def binary_search_I(lst, x):\n",
    "    # 第一步：基线条件：只有一个数时候返回，0个数退出\n",
    "    if not lst or  len(lst) == 1:\n",
    "        return 0\n",
    "    # 第二步缩小规模：\n",
    "    mid_index = len(lst)//2\n",
    "    left_lst = lst[:mid_index]\n",
    "    right_lst = lst[mid_index:]\n",
    "    if x in left_lst:\n",
    "        return binary_search_I(left_lst, x)\n",
    "    elif x in right_lst:\n",
    "        return mid_index + binary_search_I(right_lst, x)\n",
    "    else:\n",
    "        print('Not exist '+ str() +' in lst')\n",
    "# python数据结构与算法：\n",
    "def binary_search_II(lst, x):\n",
    "     # 第一步：基线条件：只有一个数时候返回，0个数退出\n",
    "    if not lst :\n",
    "        return False\n",
    "    # 第二步缩小规模：\n",
    "    mid_index = len(lst)//2\n",
    "    if lst[mid_index] == x:\n",
    "        return True\n",
    "    else:\n",
    "        if x < left_lst[mid_index]:\n",
    "            return binary_search_II(lst[:mid_index], x)\n",
    "        else:\n",
    "            return mid_index + binary_search_I(lst[mid_index+1:], x)\n"
   ]
  },
  {
   "cell_type": "code",
   "execution_count": null,
   "metadata": {},
   "outputs": [],
   "source": [
    "lst = [1, 2, 3, 4]\n",
    "binary_search_I(lst, 3)"
   ]
  },
  {
   "cell_type": "markdown",
   "metadata": {},
   "source": [
    "### 快速排序\n",
    "* c 语言标准库的qsort()是用快速排序实现的\n",
    "* 使用了分而治之的思想\n",
    "* 最坏情况下Olog(n^2, 2) 平均情况下O(n log(n, 2))\n",
    "\n",
    "### 合并排序(merge sort)\n",
    "* n log(n)"
   ]
  },
  {
   "cell_type": "code",
   "execution_count": null,
   "metadata": {},
   "outputs": [],
   "source": [
    "def quick_sort(lst):\n",
    "    # 最基本结束条件：\n",
    "    # 当数组中只有一个或零个，就是原数组\n",
    "    if len(lst) < 2:\n",
    "        return lst\n",
    "    # 找出数组中的基准值 pivot，然后分区 partitioning\n",
    "    # 因此有[ <pivot] 、pivot、 [ >pivot].\n",
    "    else:\n",
    "        pivot = lst[0]\n",
    "        less = [i for i in lst[1:] if i <= pivot]\n",
    "        greater = [i for i in lst[1:] if i > pivot]\n",
    "        return quick_sort(less) + [pivot] + quick_sort(greater)    "
   ]
  },
  {
   "cell_type": "code",
   "execution_count": null,
   "metadata": {},
   "outputs": [],
   "source": [
    "quick_sort([1,52,5,23,5])"
   ]
  },
  {
   "cell_type": "code",
   "execution_count": null,
   "metadata": {},
   "outputs": [],
   "source": [
    "def merge_sort(lst):\n",
    "    # 拆分列表，按大小顺序合并列表\n",
    "    # 第一步：当数组中只有一个或零个，就是原数组，不用排序\n",
    "    print('Splitting ', lst)\n",
    "    if len(lst) > 1:\n",
    "        mid = len(lst) // 2\n",
    "        lefthalf = lst[:mid]\n",
    "        righthalf = lst[mid:]\n",
    "        \n",
    "        merge_sort(lefthalf)\n",
    "        merge_sort(righthalf)\n",
    "        \n",
    "        i = 0\n",
    "        j = 0\n",
    "        k = 0\n",
    "        while i < len(lefthalf) and j < len(righthalf):\n",
    "            if lefthalf[i] < righthalf[j]:\n",
    "                lst[k] = lefthalf[i]\n",
    "                i += 1\n",
    "            else:\n",
    "                lst[k] = righthalf[j]\n",
    "                j += 1\n",
    "            k += 1\n",
    "            \n",
    "        while i < len(lefthalf):\n",
    "            lst[k] = lefthalf[i]\n",
    "            i += 1\n",
    "            k += 1\n",
    "            \n",
    "        while j < len(righthalf):\n",
    "            lst[k] = righthalf[j]\n",
    "            j += 1\n",
    "            k += 1\n",
    "    print('Merging ', lst)\n",
    "    "
   ]
  },
  {
   "cell_type": "code",
   "execution_count": null,
   "metadata": {},
   "outputs": [],
   "source": [
    "merge_sort([1,52,5,23,5])"
   ]
  },
  {
   "cell_type": "markdown",
   "metadata": {},
   "source": [
    "## 散列表（dict）\n",
    "* 应用\n",
    "  - 查找、用作缓存\n",
    "* 实现、冲突、散列函数\n",
    "  - 散列函数：将不同的输入映射为不同的数字\n",
    "* 适用于: \n",
    "  - 模拟映射关系\n",
    "  - 防止重复\n",
    "  - 缓存/记住数据，以免服务器再通过处理来生成它们\n",
    "* 冲突（collision）:两个键分配相同位置\n",
    "* 性能比较：\n",
    "\n",
    "|   |数组|链表|hash最好情况|hash最坏情况|\n",
    "| ---- | ----  | ----  | --- | --- |\n",
    "|读取|O(1)|O(n)|O(1) |O(n)|\n",
    "|插入|O(n)|O(1)|O(1)|O(n)|\n",
    "|删除|O(n)|O(1)|O(1)|O(n)|\n",
    "\n",
    "* 一旦填装因子大于0.7就该调整长度了\n",
    "* 栈不能用于查找"
   ]
  },
  {
   "cell_type": "markdown",
   "metadata": {},
   "source": [
    "## 广度优先搜索(breadth-first search, BFS)\n",
    "* 解决两类问题:\n",
    "  * 从节点A出发，有前往B的路径吗？\n",
    "  * 从节点A出发，前往节点B的哪条路径最短\n",
    "\n",
    "* 运行时间\n",
    "  * 查找的时候每条边都在考虑范围内：O(E)\n",
    "  * 每个人都要加入队列O(V)\n",
    "  * 因此O(V+E)\n",
    "\n",
    "### 队列\n",
    "* 操作： 入队，出队\n",
    "* 先入先出 (first in first out) FIFO\n",
    "\n",
    "### 实现算法\n",
    "* 1. 创建一个队列，用于存储要检查的人\n",
    "* 2. 从队列中弹出一个节点\n",
    "* 3. 检查是不是目标节点\n",
    "    - yes，成功\n",
    "    - No， 将这个节点的所有相邻节点加入队列\n",
    "    - 标记已经找过的节点以防止循环\n",
    "* 4. 回到第二步\n",
    "* 5. 列表为空，说明没有该目标节点"
   ]
  },
  {
   "cell_type": "code",
   "execution_count": null,
   "metadata": {},
   "outputs": [],
   "source": [
    "from collections import deque\n",
    "\n",
    "\n",
    "graph ={}\n",
    "graph['you'] = ['alice', 'bob', 'claire']\n",
    "graph['alice'] = ['peggy']\n",
    "graph['bob'] = ['anuj', 'peggy']\n",
    "graph['claire'] = ['thom', 'jonny']\n",
    "graph['anuj']=[]\n",
    "graph['peggy']=[]\n",
    "graph['thom']=[]\n",
    "graph['jonny']=[]\n",
    "\n",
    "def bfs(graph):\n",
    "    search_queue = deque()\n",
    "    search_queue += graph['you']\n",
    "    searched = []\n",
    "    while search_queue:\n",
    "        person = search_queue.popleft()# 取出第一个人\n",
    "        if person not in searched:\n",
    "            if person_is_seller(person):\n",
    "                print(person + ' is a mango seller')\n",
    "                return True\n",
    "            else:\n",
    "                searched.append(person)\n",
    "                search_queue += graph[person]\n",
    "    return False\n",
    "\n",
    "def person_is_seller(name):\n",
    "    return name[-1] ==  'm'"
   ]
  },
  {
   "cell_type": "code",
   "execution_count": null,
   "metadata": {},
   "outputs": [],
   "source": [
    "bfs(graph)"
   ]
  },
  {
   "cell_type": "markdown",
   "metadata": {},
   "source": [
    "## 狄克斯特拉算法（Dijkstra's algorithm）\n",
    "* 求加权图中到某个顶点的总权重最小路径\n",
    "* 只适用于有向无环图(DGA)\n",
    "* 无负边权（其处理过的节点将无到该节点的更短路径）\n",
    "* 包含负边权使用 贝尔曼-福德（Bellman-Ford）算法\n",
    "\n",
    "### 步骤\n",
    "* 找出最小权重到达的顶点\n",
    "* 更新该节点到达其他顶点的权值\n",
    "* 重复上述\n",
    "* 计算最终路径"
   ]
  },
  {
   "cell_type": "code",
   "execution_count": 1,
   "metadata": {},
   "outputs": [],
   "source": [
    "graph = {}"
   ]
  },
  {
   "cell_type": "code",
   "execution_count": 10,
   "metadata": {},
   "outputs": [
    {
     "name": "stdout",
     "output_type": "stream",
     "text": [
      "{'a': 5, 'b': 2, 'fin': 6}\n"
     ]
    }
   ],
   "source": [
    "graph['start'] = {}\n",
    "graph['start']['a'] = 6\n",
    "graph['start']['b'] = 2\n",
    "\n",
    "graph['a'] = {}\n",
    "graph['a']['fin'] = 1\n",
    "\n",
    "graph['b'] = {}\n",
    "graph['b']['a'] = 3\n",
    "graph['b']['fin'] = 5 \n",
    "\n",
    "graph['fin'] = {}\n",
    "\n",
    "# python 中的无穷大：\n",
    "infinity = float('inf')\n",
    "costs = {}\n",
    "costs['a'] = 6\n",
    "costs['b'] = 2\n",
    "costs['fin'] = infinity\n",
    "\n",
    "# 存储父节点：\n",
    "parents = {}\n",
    "parents['a'] = 'start'\n",
    "parents['b'] = 'start'\n",
    "parents['fin'] = None\n",
    "\n",
    "\n",
    "\n",
    "\n",
    "# 使用一个数组来记录处理过的节点，因为当一个节点不用处理多次\n",
    "processed = []\n",
    "\n",
    "def find_lowest_cost_node(costs):\n",
    "    '''\n",
    "    在未处理的节点中找出开销最小的节点\n",
    "    '''\n",
    "    lowest_cost = float('inf')\n",
    "    lowest_cost_node = None\n",
    "    for node in costs:\n",
    "        cost = costs[node]\n",
    "        if cost < lowest_cost and node not in processed:\n",
    "            lowest_cost = cost\n",
    "            lowest_cost_node = node\n",
    "    return lowest_cost_node\n",
    "\n",
    "node = find_lowest_cost_node(costs)  # 在未处理的节点中找出开销最小的节点\n",
    "while node is not None:\n",
    "    cost = costs[node]\n",
    "    neighbors = graph[node]\n",
    "    for n in neighbors.keys():  # 相邻节点\n",
    "        new_cost = cost + neighbors[n]  # 以当前节点为出发点计算开销\n",
    "        if costs[n] > new_cost:\n",
    "            costs[n] = new_cost  # 更新相邻节点的开销\n",
    "            parents[n] = node   # 将当前节点作为该邻居节点的父节点\n",
    "        \n",
    "    processed.append(node)\n",
    "    node = find_lowest_cost_node(costs)\n",
    "\n",
    "print(costs)\n"
   ]
  },
  {
   "cell_type": "markdown",
   "metadata": {},
   "source": [
    "## 贪婪算法\n",
    "* 一种解决问题非常简单的策略\n",
    "* 每步都采用最优的作法(每一步都是局部最优)\n",
    "* 大致解决问题的解"
   ]
  },
  {
   "cell_type": "markdown",
   "metadata": {},
   "source": [
    "### 集合覆盖问题\n",
    "* 每个电台覆盖一些洲，需要覆盖假定的洲且使用的电台最少"
   ]
  },
  {
   "cell_type": "code",
   "execution_count": 7,
   "metadata": {},
   "outputs": [],
   "source": [
    "states_needed = set(['mt', 'wa','or','id','ut', 'ca', 'az']) # 这么多需要覆盖"
   ]
  },
  {
   "cell_type": "code",
   "execution_count": 8,
   "metadata": {},
   "outputs": [],
   "source": [
    "# 这么多的电台以及其覆盖范围\n",
    "stations = {}\n",
    "stations['kone'] = set(['id', 'nv', 'ut'])\n",
    "stations['ktwo'] = set(['wa', 'id', 'mt'])\n",
    "stations['kthree'] = set(['or', 'nv', 'ca'])\n",
    "stations['kfour'] = set(['nv', 'ut'])\n",
    "stations['kfive'] = set(['ca', 'az'])"
   ]
  },
  {
   "cell_type": "code",
   "execution_count": 9,
   "metadata": {},
   "outputs": [],
   "source": [
    "def covered_states_by_lowest_states(states_needed, stations):\n",
    "    final_stations = []\n",
    "    while states_needed:  # 还未覆盖的洲\n",
    "        best_station = None  # 已选择的电台\n",
    "        states_covered = set()\n",
    "        for station, states_for_station in stations.items():  # 遍历找出覆盖最多的洲\n",
    "            covered = states_needed & states_for_station   # 能覆盖且还没覆盖的洲的集合\n",
    "            if len(covered) > len(states_covered):\n",
    "                best_station = station\n",
    "                states_covered = covered\n",
    "\n",
    "        states_needed -= states_covered  # 将完成覆盖的从未覆盖的集合中去除\n",
    "        final_stations.append(best_station)\n",
    "    \n",
    "    return final_stations"
   ]
  },
  {
   "cell_type": "code",
   "execution_count": 10,
   "metadata": {},
   "outputs": [
    {
     "data": {
      "text/plain": [
       "['ktwo', 'kthree', 'kone', 'kfive']"
      ]
     },
     "execution_count": 10,
     "metadata": {},
     "output_type": "execute_result"
    }
   ],
   "source": [
    "covered_states_by_lowest_states(states_needed, stations)"
   ]
  },
  {
   "cell_type": "markdown",
   "metadata": {},
   "source": [
    "### NP完全问题\n",
    "* 没有快速算法的问题\n",
    "* 此时随机选择切入点，寻找每步最优解,最终得到近似解\n",
    "\n",
    "### NP完全问题的判断\n",
    "* 元素较少时运行速度非常块，但随元素增加速度非常慢\n",
    "* 涉及到“所有组合”的问题通常时NP完全问题\n",
    "* 不能将问题分成小问题，必须考虑各种可能的情况，这个可能是NP完全问题\n",
    "* 如果问题涉及集合且难以解决，他可能是NP完全问题\n",
    "* 如果问题可以转化为集合覆盖问题或旅行商问题，肯定是NP完全问题"
   ]
  },
  {
   "cell_type": "markdown",
   "metadata": {},
   "source": [
    "## 动态规划\n",
    "* 将问题分为小问题，并先着手解决小问题\n",
    "* 学会画动态规划网格\n",
    "* 但仅当每个子问题都是离散的，即不依赖于其他子问题时，动态规划才管用\n",
    "\n",
    "### 小贴士\n",
    "* 每种动态规划解决方案都涉及网格\n",
    "* 单元格的值通常就是你要优化的值\n",
    "* 每个单元格都是一个子问题，因此应该考虑如何将问题分成子问题\n",
    "\n",
    "### （开个小玩笑）费曼算法（feyman algorithm）\n",
    "* 将问题写下来\n",
    "* 好好思考\n",
    "* 将答案写下来"
   ]
  },
  {
   "cell_type": "markdown",
   "metadata": {},
   "source": [
    "## KNN\n",
    "* 分类系统\n",
    "  - 每个对于一个物品，量化后看它与其最近的几个点的分类，一般就是该物品的分类 \n",
    "* 特征提取\n",
    "  - 量化\n",
    "  - 归一化\n",
    "* 回归，预测数值\n",
    "  - 将一个点的附近的得分打平均赋给它\n",
    "  - 距离最近：余弦相似度（cosine similarity）"
   ]
  },
  {
   "cell_type": "code",
   "execution_count": null,
   "metadata": {},
   "outputs": [],
   "source": []
  }
 ],
 "metadata": {
  "kernelspec": {
   "display_name": "Python 3",
   "language": "python",
   "name": "python3"
  },
  "language_info": {
   "codemirror_mode": {
    "name": "ipython",
    "version": 3
   },
   "file_extension": ".py",
   "mimetype": "text/x-python",
   "name": "python",
   "nbconvert_exporter": "python",
   "pygments_lexer": "ipython3",
   "version": "3.7.4"
  }
 },
 "nbformat": 4,
 "nbformat_minor": 2
}
