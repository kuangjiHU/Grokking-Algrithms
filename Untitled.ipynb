{
 "cells": [
  {
   "cell_type": "markdown",
   "metadata": {},
   "source": [
    "# 算法图解学习\n",
    "   *  主要目的是学习不同基础算法的优缺点，对症下药"
   ]
  },
  {
   "cell_type": "markdown",
   "metadata": {},
   "source": [
    "## 二分查找\n",
    "* 性能的理解：对于有序范围内，需要多少个步骤完成，步骤越少计算复杂度越少\n",
    "* 二分法只适用于有序列表\n",
    "* 对数时间 O(log(n, 2))"
   ]
  },
  {
   "cell_type": "code",
   "execution_count": 1,
   "metadata": {},
   "outputs": [],
   "source": [
    "def binary_search(lst, item):\n",
    "    # 从lst中找到item\n",
    "    low = 0\n",
    "    high = len(lst) - 1\n",
    "    while low <= high:\n",
    "        mid = (low + high)//2 # 中间位置\n",
    "        guess = lst[mid]\n",
    "        if guess == item:\n",
    "            return mid\n",
    "        if guess > item:\n",
    "            high = mid - 1\n",
    "        else:\n",
    "            low = mid + 1\n",
    "    return None"
   ]
  },
  {
   "cell_type": "code",
   "execution_count": 2,
   "metadata": {},
   "outputs": [
    {
     "name": "stdout",
     "output_type": "stream",
     "text": [
      "4\n"
     ]
    }
   ],
   "source": [
    "my_lst = [1, 2, 3, 4, 10, 15, 33]\n",
    "print(binary_search(my_lst, 10))"
   ]
  },
  {
   "cell_type": "markdown",
   "metadata": {},
   "source": [
    "### 旅行商问题\n",
    "有个旅行商，旅途中需要经过五个城市，需要总路径最短，设计旅程顺序\n",
    "* 此处讨论 O(n!)算法\n",
    "对每个顶点进行计算 是个阶乘问题，但是k近邻会有个近似答案"
   ]
  },
  {
   "cell_type": "markdown",
   "metadata": {},
   "source": [
    "## 选择排序\n",
    "* 许多算法都是需要先对数据进行排序才行，例如二分查找， 因此需要优秀的排序算法\n",
    "* 数据的存储不一定是顺序的，因为顺序，及需要一片连续的内存，不是最大化利用内存的，而内存的为一个小小区域都是有编号的，因此，可以利用编号组成一个 链表\n",
    "* 但是链表如果当读取某个元素时并不高效，需要知道之前的所有编号，而数组就可以直接读出\n",
    "\n",
    "|   |数组|链表|\n",
    "  | ---- | ----  | ----  |\n",
    "  |读取|O(1)|O(n)|\n",
    "  |插入|O(n)|O(1)|\n",
    "  |删除|O(n)|O(1)|\n",
    " \n",
    " * 数组与list 概念不要混淆，数组中所有元素类型必须相同（int， double）"
   ]
  },
  {
   "cell_type": "code",
   "execution_count": 3,
   "metadata": {},
   "outputs": [],
   "source": [
    "def find_smallest(arr):\n",
    "    smallest = arr[0]\n",
    "    smallest_index = 0\n",
    "    for i in range(1, len(arr)):\n",
    "        if arr[i] < smallest:\n",
    "            smallest = arr[i]\n",
    "            smallest_index = i\n",
    "    return smallest_index"
   ]
  },
  {
   "cell_type": "code",
   "execution_count": 8,
   "metadata": {},
   "outputs": [],
   "source": [
    "def sellection_sort(arr):\n",
    "    new_arr = []\n",
    "    for i  in range(len(arr)):\n",
    "        smallest = find_smallest(arr)\n",
    "        new_arr.append(arr.pop(smallest))\n",
    "    return new_arr"
   ]
  },
  {
   "cell_type": "code",
   "execution_count": 9,
   "metadata": {},
   "outputs": [
    {
     "name": "stdout",
     "output_type": "stream",
     "text": [
      "[2, 4, 5, 6]\n"
     ]
    }
   ],
   "source": [
    "print(sellection_sort([5, 2, 4, 6]))"
   ]
  },
  {
   "cell_type": "markdown",
   "metadata": {},
   "source": [
    "## 递归\n",
    "* 三部曲：基本情况、改变状态向基本情况靠近，调用自己（初始条件，缩小规模，调用自身）\n",
    "* 也有的说：基线条件、递归条件\n",
    "* “如果使用循环，程序的性能可能更高；如果使用递归，程序可能更容易理解”"
   ]
  },
  {
   "cell_type": "markdown",
   "metadata": {},
   "source": [
    "### 栈\n",
    "\n",
    "* 调用栈 call stack\n",
    " - 计算机在内部使用被称为调用栈的栈\n",
    " - 调用另一个函数时，当前函数处于暂停状态"
   ]
  },
  {
   "cell_type": "code",
   "execution_count": 10,
   "metadata": {},
   "outputs": [],
   "source": [
    "def greet(name):\n",
    "    print('hello, '+name+ '!')\n",
    "    greet2(name)\n",
    "    print('getting ready to say bye...' )\n",
    "    bye()\n",
    "\n",
    "def greet2(name):\n",
    "    print('how are you, '+ name)\n",
    "\n",
    "def bye():\n",
    "    print('ok, bye!')"
   ]
  },
  {
   "cell_type": "code",
   "execution_count": 11,
   "metadata": {},
   "outputs": [
    {
     "name": "stdout",
     "output_type": "stream",
     "text": [
      "hello, hudong!\n",
      "how are you, hudong\n",
      "getting ready to say bye...\n",
      "ok, bye!\n"
     ]
    }
   ],
   "source": [
    "greet('hudong')"
   ]
  },
  {
   "cell_type": "markdown",
   "metadata": {},
   "source": [
    "调用greet('hudong'),计算机将为该函数调用分配一块内存，变量将被写入当执行到greet2时，计算机也会为这个函数分配一块内存，计算机使用一个栈来表示这些内存块，greet2内存块在greet上面，当执行完how are you, hudong后，从函数调用返回，栈顶的内存块被弹出,后面的bye()将在getting ready to say bye...后面被分配在greet内存块的上面。"
   ]
  },
  {
   "cell_type": "markdown",
   "metadata": {},
   "source": [
    "* 递归调用栈"
   ]
  },
  {
   "cell_type": "code",
   "execution_count": 12,
   "metadata": {},
   "outputs": [],
   "source": [
    "# 计算阶乘\n",
    "def fact(x):\n",
    "    if x == 1:\n",
    "        return 1\n",
    "    else:\n",
    "        return x * fact(x-1)"
   ]
  },
  {
   "cell_type": "code",
   "execution_count": 13,
   "metadata": {},
   "outputs": [
    {
     "data": {
      "text/plain": [
       "6"
      ]
     },
     "execution_count": 13,
     "metadata": {},
     "output_type": "execute_result"
    }
   ],
   "source": [
    "fact(3)"
   ]
  },
  {
   "cell_type": "markdown",
   "metadata": {},
   "source": [
    "## 快速排序\n",
    "* 分而治之  --通用的问题解决方法(D&C divide and conquer)\n",
    "* 快速排序使用了分而治之的方法"
   ]
  },
  {
   "cell_type": "markdown",
   "metadata": {},
   "source": [
    "### 分而治之\n",
    "* D&C算法是递归的 需要解决三部曲\n",
    "* 是一种解决问题的思路\n",
    "* 使用D&C处理列表问题时，基线条件很可能时空数组或者只包含一个元素的数组"
   ]
  },
  {
   "cell_type": "code",
   "execution_count": 4,
   "metadata": {},
   "outputs": [],
   "source": [
    "def sum_list(lst):\n",
    "    '''\n",
    "    其实sum 函数是一种分而治之的思路\n",
    "    '''\n",
    "#     if not lst: # 结束条件：\n",
    "#         return 0\n",
    "    if len(lst) == 1:\n",
    "        return lstt[0]\n",
    "#     else:\n",
    "    return  lst[0] + sum_list(lst[1:])\n"
   ]
  },
  {
   "cell_type": "code",
   "execution_count": 5,
   "metadata": {},
   "outputs": [
    {
     "data": {
      "text/plain": [
       "10"
      ]
     },
     "execution_count": 5,
     "metadata": {},
     "output_type": "execute_result"
    }
   ],
   "source": [
    "lst = [1, 2, 3, 4]\n",
    "sum_list(lst)"
   ]
  },
  {
   "cell_type": "code",
   "execution_count": 6,
   "metadata": {},
   "outputs": [],
   "source": [
    "# 实现统计列表元素个数的\n",
    "def tongji_lst_len(lst):\n",
    "    if not lst: # 结束条件\n",
    "        return 0\n",
    "#     else:\n",
    "    return  1 + tongji_lst_len(lst[1:])"
   ]
  },
  {
   "cell_type": "code",
   "execution_count": 7,
   "metadata": {},
   "outputs": [
    {
     "data": {
      "text/plain": [
       "4"
      ]
     },
     "execution_count": 7,
     "metadata": {},
     "output_type": "execute_result"
    }
   ],
   "source": [
    "lst = [1, 2, 3, 4]\n",
    "tongji_lst_len(lst)"
   ]
  },
  {
   "cell_type": "code",
   "execution_count": 13,
   "metadata": {},
   "outputs": [],
   "source": [
    "# 找出列表中最大的数字：\n",
    "def find_max(lst):\n",
    "    if not lst: # 结束条件\n",
    "        return None\n",
    "#     else:\n",
    "    cur_max = lst[0]\n",
    "    last_max = find_max(lst[1:])\n",
    "    if last_max:\n",
    "        return last_max if last_max > cur_max  else cur_max\n",
    "#     else:\n",
    "    return cur_max\n",
    "\n",
    "\n",
    "#  图解答案：\n",
    "def max(list):\n",
    "    if len(list) == 2:\n",
    "        return list[0] if list[0] >list[1] else list[1]\n",
    "    sub_max = max(list[1:])\n",
    "    return list[0] if list[0] > sub_max else sub_max "
   ]
  },
  {
   "cell_type": "code",
   "execution_count": 14,
   "metadata": {},
   "outputs": [
    {
     "data": {
      "text/plain": [
       "10"
      ]
     },
     "execution_count": 14,
     "metadata": {},
     "output_type": "execute_result"
    }
   ],
   "source": [
    "lst = [1, 10, 3, 4]\n",
    "find_max(lst)"
   ]
  },
  {
   "cell_type": "code",
   "execution_count": 15,
   "metadata": {},
   "outputs": [],
   "source": [
    "# 用分而治之的递归思想写出二分查找：\n",
    "def binary_search_I(lst, x):\n",
    "    # 第一步：基线条件：只有一个数时候返回，0个数退出\n",
    "    if not lst or  len(lst) == 1:\n",
    "        return 0\n",
    "    # 第二步缩小规模：\n",
    "    mid_index = len(lst)//2\n",
    "    left_lst = lst[:mid_index]\n",
    "    right_lst = lst[mid_index:]\n",
    "    if x in left_lst:\n",
    "        return binary_search_I(left_lst, x)\n",
    "    elif x in right_lst:\n",
    "        return mid_index + binary_search_I(right_lst, x)\n",
    "    else:\n",
    "        print('Not exist '+ str() +' in lst')\n",
    "# python数据结构与算法：\n",
    "def binary_search_II(lst, x):\n",
    "     # 第一步：基线条件：只有一个数时候返回，0个数退出\n",
    "    if not lst :\n",
    "        return False\n",
    "    # 第二步缩小规模：\n",
    "    mid_index = len(lst)//2\n",
    "    if lst[mid_index] == x:\n",
    "        return True\n",
    "    else:\n",
    "        if x < left_lst[mid_index]:\n",
    "            return binary_search_II(lst[:mid_index], x)\n",
    "        else:\n",
    "            return mid_index + binary_search_I(lst[mid_index+1:], x)\n"
   ]
  },
  {
   "cell_type": "code",
   "execution_count": 16,
   "metadata": {},
   "outputs": [
    {
     "data": {
      "text/plain": [
       "2"
      ]
     },
     "execution_count": 16,
     "metadata": {},
     "output_type": "execute_result"
    }
   ],
   "source": [
    "lst = [1, 2, 3, 4]\n",
    "binary_search_I(lst, 3)"
   ]
  },
  {
   "cell_type": "markdown",
   "metadata": {},
   "source": [
    "### 快速排序\n",
    "* c 语言标准库的qsort()是用快速排序实现的\n",
    "* 使用了分而治之的思想\n",
    "* 最坏情况下Olog(n^2, 2) 平均情况下O(n log(n, 2))\n",
    "\n",
    "### 合并排序(merge sort)\n",
    "* n log(n)"
   ]
  },
  {
   "cell_type": "code",
   "execution_count": 22,
   "metadata": {},
   "outputs": [],
   "source": [
    "def quick_sort(lst):\n",
    "    # 最基本结束条件：\n",
    "    # 当数组中只有一个或零个，就是原数组\n",
    "    if len(lst) < 2:\n",
    "        return lst\n",
    "    # 找出数组中的基准值 pivot，然后分区 partitioning\n",
    "    # 因此有[ <pivot] 、pivot、 [ >pivot].\n",
    "    else:\n",
    "        pivot = lst[0]\n",
    "        less = [i for i in lst[1:] if i <= pivot]\n",
    "        greater = [i for i in lst[1:] if i > pivot]\n",
    "        return quick_sort(less) + [pivot] + quick_sort(greater)    "
   ]
  },
  {
   "cell_type": "code",
   "execution_count": 21,
   "metadata": {},
   "outputs": [
    {
     "data": {
      "text/plain": [
       "[1, 5, 5, 23, 52]"
      ]
     },
     "execution_count": 21,
     "metadata": {},
     "output_type": "execute_result"
    }
   ],
   "source": [
    "quick_sort([1,52,5,23,5])"
   ]
  },
  {
   "cell_type": "code",
   "execution_count": null,
   "metadata": {},
   "outputs": [],
   "source": []
  }
 ],
 "metadata": {
  "kernelspec": {
   "display_name": "Python 3",
   "language": "python",
   "name": "python3"
  },
  "language_info": {
   "codemirror_mode": {
    "name": "ipython",
    "version": 3
   },
   "file_extension": ".py",
   "mimetype": "text/x-python",
   "name": "python",
   "nbconvert_exporter": "python",
   "pygments_lexer": "ipython3",
   "version": "3.7.4"
  }
 },
 "nbformat": 4,
 "nbformat_minor": 2
}
