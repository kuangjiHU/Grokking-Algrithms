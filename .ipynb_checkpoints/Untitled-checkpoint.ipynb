{
 "cells": [
  {
   "cell_type": "markdown",
   "metadata": {},
   "source": [
    "# 算法图解学习\n",
    "   *  主要目的是学习不同基础算法的优缺点，对症下药"
   ]
  },
  {
   "cell_type": "markdown",
   "metadata": {},
   "source": [
    "## 二分查找\n",
    "* 性能的理解：对于有序范围内，需要多少个步骤完成，步骤越少计算复杂度越少\n",
    "* 二分法只适用于有序列表\n",
    "* 对数时间 O(log(n, 2))"
   ]
  },
  {
   "cell_type": "code",
   "execution_count": 1,
   "metadata": {},
   "outputs": [],
   "source": [
    "def binary_search(lst, item):\n",
    "    # 从lst中找到item\n",
    "    low = 0\n",
    "    high = len(lst) - 1\n",
    "    while low <= high:\n",
    "        mid = (low + high)//2 # 中间位置\n",
    "        guess = lst[mid]\n",
    "        if guess == item:\n",
    "            return mid\n",
    "        if guess > item:\n",
    "            high = mid - 1\n",
    "        else:\n",
    "            low = mid + 1\n",
    "    return None"
   ]
  },
  {
   "cell_type": "code",
   "execution_count": 2,
   "metadata": {},
   "outputs": [
    {
     "name": "stdout",
     "output_type": "stream",
     "text": [
      "4\n"
     ]
    }
   ],
   "source": [
    "my_lst = [1, 2, 3, 4, 10, 15, 33]\n",
    "print(binary_search(my_lst, 10))"
   ]
  },
  {
   "cell_type": "markdown",
   "metadata": {},
   "source": [
    "### 旅行商问题\n",
    "有个旅行商，旅途中需要经过五个城市，需要总路径最短，设计旅程顺序\n",
    "* 此处讨论 O(n!)算法\n",
    "对每个顶点进行计算 是个阶乘问题，但是k近邻会有个近似答案"
   ]
  },
  {
   "cell_type": "markdown",
   "metadata": {},
   "source": [
    "## 选择排序\n",
    "* 许多算法都是需要先对数据进行排序才行，例如二分查找， 因此需要优秀的排序算法\n",
    "* 数据的存储不一定是顺序的，因为顺序，及需要一片连续的内存，不是最大化利用内存的，而内存的为一个小小区域都是有编号的，因此，可以利用编号组成一个 链表\n",
    "* 但是链表如果当读取某个元素时并不高效，需要知道之前的所有编号，而数组就可以直接读出\n",
    "\n",
    "|   |数组|链表|\n",
    "  | ---- | ----  | ----  |\n",
    "  |读取|O(1)|O(n)|\n",
    "  |插入|O(n)|O(1)|\n",
    "  |删除|O(n)|O(1)|\n",
    " \n",
    " * 数组与list 概念不要混淆，数组中所有元素类型必须相同（int， double）"
   ]
  },
  {
   "cell_type": "code",
   "execution_count": 3,
   "metadata": {},
   "outputs": [],
   "source": [
    "def find_smallest(arr):\n",
    "    smallest = arr[0]\n",
    "    smallest_index = 0\n",
    "    for i in range(1, len(arr)):\n",
    "        if arr[i] < smallest:\n",
    "            smallest = arr[i]\n",
    "            smallest_index = i\n",
    "    return smallest_index"
   ]
  },
  {
   "cell_type": "code",
   "execution_count": 8,
   "metadata": {},
   "outputs": [],
   "source": [
    "def sellection_sort(arr):\n",
    "    new_arr = []\n",
    "    for i  in range(len(arr)):\n",
    "        smallest = find_smallest(arr)\n",
    "        new_arr.append(arr.pop(smallest))\n",
    "    return new_arr"
   ]
  },
  {
   "cell_type": "code",
   "execution_count": 9,
   "metadata": {},
   "outputs": [
    {
     "name": "stdout",
     "output_type": "stream",
     "text": [
      "[2, 4, 5, 6]\n"
     ]
    }
   ],
   "source": [
    "print(sellection_sort([5, 2, 4, 6]))"
   ]
  },
  {
   "cell_type": "markdown",
   "metadata": {},
   "source": [
    "## 递归\n",
    "* 三部曲：基本情况、改变状态向基本情况靠近，调用自己\n",
    "* 也有的说：基线条件、递归条件\n",
    "* “如果使用循环，程序的性能可能更高；如果使用递归，程序可能更容易理解”"
   ]
  },
  {
   "cell_type": "markdown",
   "metadata": {},
   "source": [
    "### 栈\n",
    "\n",
    "* 调用栈 call stack\n",
    " - 计算机在内部使用被称为调用栈的栈\n",
    " - 调用另一个函数时，当前函数处于暂停状态"
   ]
  },
  {
   "cell_type": "code",
   "execution_count": 10,
   "metadata": {},
   "outputs": [],
   "source": [
    "def greet(name):\n",
    "    print('hello, '+name+ '!')\n",
    "    greet2(name)\n",
    "    print('getting ready to say bye...' )\n",
    "    bye()\n",
    "\n",
    "def greet2(name):\n",
    "    print('how are you, '+ name)\n",
    "\n",
    "def bye():\n",
    "    print('ok, bye!')"
   ]
  },
  {
   "cell_type": "code",
   "execution_count": 11,
   "metadata": {},
   "outputs": [
    {
     "name": "stdout",
     "output_type": "stream",
     "text": [
      "hello, hudong!\n",
      "how are you, hudong\n",
      "getting ready to say bye...\n",
      "ok, bye!\n"
     ]
    }
   ],
   "source": [
    "greet('hudong')"
   ]
  },
  {
   "cell_type": "markdown",
   "metadata": {},
   "source": [
    "调用greet('hudong'),计算机将为该函数调用分配一块内存，变量将被写入当执行到greet2时，计算机也会为这个函数分配一块内存，计算机使用一个栈来表示这些内存块，greet2内存块在greet上面，当执行完how are you, hudong后，从函数调用返回，栈顶的内存块被弹出,后面的bye()将在getting ready to say bye...后面被分配在greet内存块的上面。"
   ]
  },
  {
   "cell_type": "markdown",
   "metadata": {},
   "source": [
    "* 递归调用栈"
   ]
  },
  {
   "cell_type": "code",
   "execution_count": 12,
   "metadata": {},
   "outputs": [],
   "source": [
    "# 计算阶乘\n",
    "def fact(x):\n",
    "    if x == 1:\n",
    "        return 1\n",
    "    else:\n",
    "        return x * fact(x-1)"
   ]
  },
  {
   "cell_type": "code",
   "execution_count": 13,
   "metadata": {},
   "outputs": [
    {
     "data": {
      "text/plain": [
       "6"
      ]
     },
     "execution_count": 13,
     "metadata": {},
     "output_type": "execute_result"
    }
   ],
   "source": [
    "fact(3)"
   ]
  },
  {
   "cell_type": "markdown",
   "metadata": {},
   "source": [
    "## 快速排序"
   ]
  },
  {
   "cell_type": "code",
   "execution_count": null,
   "metadata": {},
   "outputs": [],
   "source": []
  }
 ],
 "metadata": {
  "kernelspec": {
   "display_name": "Python 3",
   "language": "python",
   "name": "python3"
  },
  "language_info": {
   "codemirror_mode": {
    "name": "ipython",
    "version": 3
   },
   "file_extension": ".py",
   "mimetype": "text/x-python",
   "name": "python",
   "nbconvert_exporter": "python",
   "pygments_lexer": "ipython3",
   "version": "3.7.4"
  }
 },
 "nbformat": 4,
 "nbformat_minor": 2
}
